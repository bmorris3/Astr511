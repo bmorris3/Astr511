{
 "metadata": {
  "name": ""
 },
 "nbformat": 3,
 "nbformat_minor": 0,
 "worksheets": [
  {
   "cells": [
    {
     "cell_type": "code",
     "collapsed": false,
     "input": [
      "import matplotlib.pyplot as plt\n",
      "import numpy as np\n",
      "import pyfits\n",
      "from astroML.datasets import *"
     ],
     "language": "python",
     "metadata": {},
     "outputs": [],
     "prompt_number": 25
    },
    {
     "cell_type": "code",
     "collapsed": false,
     "input": [
      "def plotPanel(colorarr, Cx, Cy, xLabel, yLabel, xMin, xMax, yMin, yMax): \n",
      "\n",
      "   # axes limits\n",
      "   range = np.zeros((2,2))\n",
      "   range[0,0]=xMin\n",
      "   range[0,1]=xMax\n",
      "   range[1,0]=yMin\n",
      "   range[1,1]=yMax\n",
      "\n",
      "   # must bin because of large samples\n",
      "   NS, xedgesS, yedgesS = binned_statistic_2d(colors['S',Cx], colors['S',Cy], colors['S',Cy],'count', bins=100, range=range)\n",
      "   NG, xedgesG, yedgesG = binned_statistic_2d(colors['G',Cx], colors['G',Cy], colors['G',Cy],'count', bins=100, range=range)\n",
      "\n",
      "   ## quasars are red scatter plot \n",
      "   plt.scatter(colors['Q',Cx], colors['Q',Cy], color='red', s=10, linewidths=1, alpha=0.3)\n",
      "\n",
      "   ## stars are copper continuous map \n",
      "   cmap = plt.cm.copper\n",
      "   cmap.set_bad('w', 0.0)\n",
      "   plt.imshow(np.log10(NS.T), origin='lower',\n",
      "           extent=[xedgesS[0], xedgesS[-1], yedgesS[0], yedgesS[-1]],\n",
      "           aspect='auto', interpolation='nearest', cmap=cmap)\n",
      "\n",
      "   ## and galaxies are blue contours\n",
      "   levels = np.linspace(0, np.log10(NG.max()), 7)[2:]\n",
      "   plt.contour(np.log10(NG.T), levels, colors='b', linewidths=2,\n",
      "            extent=[xedgesG[0], xedgesG[-1], yedgesG[0], yedgesG[-1]])\n",
      "\n",
      "   plt.xlim(xMin, xMax)\n",
      "   plt.ylim(yMin, yMax)\n",
      "   plt.xlabel(xLabel, fontsize=18)\n",
      "   plt.ylabel(yLabel, fontsize=18)"
     ],
     "language": "python",
     "metadata": {},
     "outputs": [],
     "prompt_number": 26
    },
    {
     "cell_type": "code",
     "collapsed": false,
     "input": [
      "### first read data and then plot \n",
      "# initialize all the colors (color = mag1 - mag2) \n",
      "mag1 = {}\n",
      "mag1['gr']='g'\n",
      "mag1['ri']='r'\n",
      "mag1['gi']='g'\n",
      "mag1['iK']='i'\n",
      "mag1['JH']='J'\n",
      "mag1['HK']='H'\n",
      "mag1['JK']='J'\n",
      "mag2 = {}\n",
      "mag2['gr']='r'\n",
      "mag2['ri']='i'\n",
      "mag2['gi']='i'\n",
      "mag2['iK']='K'\n",
      "mag2['JH']='H'\n",
      "mag2['HK']='K'\n",
      "mag2['JK']='K'\n",
      "# and this will be array with all the colors for all the populations \n",
      "colors = {} \n",
      "for c in ['gr', 'ri', 'gi', 'iK', 'JH', 'HK', 'JK']: \n",
      "   for pop in ['S', 'G', 'Q']:\n",
      "      colors[pop, c] = {}\n",
      "# done with setup, go read the data files "
     ],
     "language": "python",
     "metadata": {},
     "outputs": [],
     "prompt_number": 27
    },
    {
     "cell_type": "code",
     "collapsed": false,
     "input": [
      "### STARS (from astroML; SDSS standards from Stripe 82 matched to 2MASS) \n",
      "star = fetch_sdss_S82standards(crossmatch_2mass=True)  # 313,859 stars\n",
      "starOK = star[star['K'] < 13.55]   # 46,967 stars with SNR>10 in the 2MASS K band\n",
      "\n",
      "## extract stellar magnitudes \n",
      "mS = {} # all the stellar magnitudes\n",
      "# SDSS magnitudes\n",
      "for f in ['g', 'r', 'i']:\n",
      "   recordname = 'mmed_' + f\n",
      "   mS[f] = starOK[recordname] \n",
      "\n",
      "# 2MASS magnitudes\n",
      "for f in ['J', 'H', 'K']:\n",
      "   mS[f] = starOK[f] \n",
      "\n",
      "# make stellar colors\n",
      "for c in ['gr', 'ri', 'gi', 'iK', 'JH', 'HK', 'JK']: \n",
      "   colors['S', c] = mS[mag1[c]] - mS[mag2[c]]"
     ],
     "language": "python",
     "metadata": {},
     "outputs": [],
     "prompt_number": 28
    },
    {
     "cell_type": "code",
     "collapsed": false,
     "input": [
      "### QUASARS (from DR7, see http://classic.sdss.org/dr7/products/value_added/qsocat_dr7.html) \n",
      "quasars = pyfits.open('dr7qso.fit')[1].data     # 105,783 quasars\n",
      "quasarsOK = quasars[(quasars['KMAG'] > 5.0) & (quasars['KMAG'] < 13.55) & (quasars['Z'] < 2.5)]  # 65,435 quasars at z<2.5\n",
      "\n",
      "## extract quasar magnitudes \n",
      "mQ = {} # all the quasar magnitudes\n",
      "# SDSS: \n",
      "mQ['g'] = quasarsOK['GMAG'] \n",
      "mQ['r'] = quasarsOK['RMAG'] \n",
      "mQ['i'] = quasarsOK['IMAG'] \n",
      "# 2MASS: \n",
      "for f in ['J', 'H', 'K']:\n",
      "   recordname = f + 'MAG'\n",
      "   mQ[f] = quasarsOK[recordname] \n",
      "\n",
      "# make quasar colors\n",
      "for c in ['gr', 'ri', 'gi', 'iK', 'JH', 'HK', 'JK']: \n",
      "   colors['Q', c] = mQ[mag1[c]] - mQ[mag2[c]]"
     ],
     "language": "python",
     "metadata": {},
     "outputs": [],
     "prompt_number": 29
    },
    {
     "cell_type": "code",
     "collapsed": false,
     "input": [
      "### GALAXIES (from DR7, see http://sdss.physics.nyu.edu/vagc/) \n",
      "galaxiesSDSS = pyfits.open('object_sdss_imaging.fits')[1].data    # 2,506,754 galaxies\n",
      "galaxies2MASS = pyfits.open('object_twomass.fits')[1].data        # 2,506,754 galaxies\n",
      "flux = galaxiesSDSS['MODELFLUX']  \n",
      "SDSSmask = ((flux[:,1]>0) & (flux[:,2]>0) & (flux[:,3]>0))\n",
      "mJ = galaxies2MASS['J_M_K20FE'] \n",
      "mK = galaxies2MASS['K_M_K20FE'] \n",
      "galSDSSOK = galaxiesSDSS[(mK < 13.55) & (mK > 5.0) & (mJ > 5.0) & SDSSmask]    # 156,484 galaxies\n",
      "gal2MASSOK = galaxies2MASS[(mK < 13.55) & (mK > 5.0) & (mJ > 5.0) & SDSSmask]  # 156,484 galaxies\n",
      "\n",
      "## extract galaxy magnitudes \n",
      "mG = {} # all the galaxies magnitudes\n",
      "# SDSS: first convert from nanomaggies to AB mags\n",
      "flux = galSDSSOK['MODELFLUX']     # N.B. it's important not to use PSFFLUX for galaxies! \n",
      "mag = 22.5 - 2.5*np.log10(flux)\n",
      "mG['g'] = mag[:,1]\n",
      "mG['r'] = mag[:,2]\n",
      "mG['i'] = mag[:,3]\n",
      "\n",
      "# 2MASS: \n",
      "for f in ['J', 'H', 'K']:\n",
      "   recordname = f + '_M_K20FE'\n",
      "   mG[f] = gal2MASSOK[recordname] \n",
      "\n",
      "# make galaxy colors\n",
      "for c in ['gr', 'ri', 'gi', 'iK', 'JH', 'HK', 'JK']: \n",
      "   colors['G', c] = mG[mag1[c]] - mG[mag2[c]]"
     ],
     "language": "python",
     "metadata": {},
     "outputs": [],
     "prompt_number": 30
    },
    {
     "cell_type": "code",
     "collapsed": false,
     "input": [
      "## done with reading all the data"
     ],
     "language": "python",
     "metadata": {},
     "outputs": [],
     "prompt_number": 31
    },
    {
     "cell_type": "code",
     "collapsed": false,
     "input": [
      "########################################################## \n",
      "### plot (using modified astroML code) \n",
      "from astroML.stats import binned_statistic_2d\n",
      "\n",
      "# Create figure and subplots\n",
      "fig = plt.figure(figsize=(8, 8))\n",
      "fig.subplots_adjust(wspace=0.25, left=0.1, right=0.95, bottom=0.12, top=0.95)"
     ],
     "language": "python",
     "metadata": {},
     "outputs": [],
     "prompt_number": 32
    },
    {
     "cell_type": "code",
     "collapsed": false,
     "input": [
      "#--------------------\n",
      "# First axes:\n",
      "ax = plt.subplot(221)\n",
      "Cx = 'gr'\n",
      "Cy = 'ri'\n",
      "plotPanel(colors, 'gr', 'ri', '$\\mathrm{g-r}$', '$\\mathrm{r-i}$', -0.5, 2.0, -0.5, 2.5) \n",
      "\n",
      "#--------------------\n",
      "# Second axes:\n",
      "ax = plt.subplot(222)\n",
      "Cx = 'gi'\n",
      "Cy = 'JK'\n",
      "plotPanel(colors, 'gi', 'JK', '$\\mathrm{g-i}$', '$\\mathrm{J-K}$', -0.5, 4.5, -0.5, 3.0) \n",
      "\n",
      "#--------------------\n",
      "# Third axes:\n",
      "ax = plt.subplot(223)\n",
      "Cx = 'JH'\n",
      "Cy = 'HK'\n",
      "plotPanel(colors, 'JH', 'HK', '$\\mathrm{J-H}$', '$\\mathrm{H-K}$', -0.2, 1.5, -0.2, 1.5) \n",
      "\n",
      "#--------------------\n",
      "# Fourth axes:\n",
      "ax = plt.subplot(224)\n",
      "Cx = 'gi'\n",
      "Cy = 'iK'\n",
      "plotPanel(colors, 'gi', 'iK', '$\\mathrm{g-i}$', '$\\mathrm{i-K}$', -0.5, 4.5, 0.5, 5.5) "
     ],
     "language": "python",
     "metadata": {},
     "outputs": [],
     "prompt_number": 33
    },
    {
     "cell_type": "code",
     "collapsed": false,
     "input": [
      "# add classification lines and labels\n",
      "plt.plot([0.0, 0.0], [0.0, 1.3], 'k-', linewidth=1)\n",
      "plt.plot([0.0, 4.0], [1.3, 4.3], 'k-', linewidth=1)\n",
      "plt.plot([0.8, 0.8], [2.0, 6.0], 'k--', linewidth=1)\n",
      "plt.text(2.5, 4.5, 'Galaxies', color='blue')\n",
      "plt.text(-0.3, 4.9, 'QSO', color='red')\n",
      "plt.text(2.5, 2.1, 'Stars', color='black')"
     ],
     "language": "python",
     "metadata": {},
     "outputs": [
      {
       "metadata": {},
       "output_type": "pyout",
       "prompt_number": 34,
       "text": [
        "<matplotlib.text.Text at 0x10afe51d0>"
       ]
      }
     ],
     "prompt_number": 34
    },
    {
     "cell_type": "code",
     "collapsed": false,
     "input": [
      "plt.show() "
     ],
     "language": "python",
     "metadata": {},
     "outputs": [],
     "prompt_number": 35
    }
   ],
   "metadata": {}
  }
 ]
}